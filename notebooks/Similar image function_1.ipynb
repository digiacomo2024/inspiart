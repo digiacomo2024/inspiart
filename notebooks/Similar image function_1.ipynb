{
 "cells": [
  {
   "cell_type": "code",
   "execution_count": null,
   "id": "f2a49370-d949-4b00-bd74-63747ed5c172",
   "metadata": {
    "execution": {
     "iopub.execute_input": "2025-09-09T18:57:25.639856Z",
     "iopub.status.busy": "2025-09-09T18:57:25.638228Z",
     "iopub.status.idle": "2025-09-09T18:57:25.646027Z",
     "shell.execute_reply": "2025-09-09T18:57:25.645159Z",
     "shell.execute_reply.started": "2025-09-09T18:57:25.639785Z"
    }
   },
   "outputs": [],
   "source": [
    "# Expectation to previous code"
   ]
  },
  {
   "cell_type": "code",
   "execution_count": null,
   "id": "86f8b722-a046-4daf-a4c3-2681669b8c4e",
   "metadata": {
    "execution": {
     "iopub.execute_input": "2025-09-09T18:16:38.150978Z",
     "iopub.status.busy": "2025-09-09T18:16:38.150583Z",
     "iopub.status.idle": "2025-09-09T18:16:38.154816Z",
     "shell.execute_reply": "2025-09-09T18:16:38.153826Z",
     "shell.execute_reply.started": "2025-09-09T18:16:38.150952Z"
    }
   },
   "outputs": [],
   "source": [
    "#liabries installed:        !pip install chromadb Pillow matplotlib numpy\n",
    "#imports:\n",
    "                            #import chromadb\n",
    "                            #import numpy as np\n",
    "                            #from PIL import Image\n",
    "                            #import matplotlib.pyplot as plt\n",
    "                            #import os\n",
    "                            #from sentence_transformers import SentenceTransformer\n",
    "                            #model = SentenceTransformer('clip-ViT-B-32')\n",
    "\n",
    "#instantiate the model:     client = chromadb.Client()"
   ]
  },
  {
   "cell_type": "code",
   "execution_count": 3,
   "id": "b54087aa-5e0f-4258-805f-36a27390df12",
   "metadata": {
    "execution": {
     "iopub.execute_input": "2025-09-09T18:16:46.869452Z",
     "iopub.status.busy": "2025-09-09T18:16:46.866119Z",
     "iopub.status.idle": "2025-09-09T18:16:46.876868Z",
     "shell.execute_reply": "2025-09-09T18:16:46.875733Z",
     "shell.execute_reply.started": "2025-09-09T18:16:46.869256Z"
    }
   },
   "outputs": [],
   "source": [
    "#Establish ChromaDB connection and load the client"
   ]
  },
  {
   "cell_type": "code",
   "execution_count": null,
   "id": "4e48cd47-55bd-45e2-b194-3091199ed44e",
   "metadata": {
    "execution": {
     "iopub.execute_input": "2025-09-09T18:16:56.250371Z",
     "iopub.status.busy": "2025-09-09T18:16:56.248964Z",
     "iopub.status.idle": "2025-09-09T18:16:56.263727Z",
     "shell.execute_reply": "2025-09-09T18:16:56.263052Z",
     "shell.execute_reply.started": "2025-09-09T18:16:56.250302Z"
    }
   },
   "outputs": [],
   "source": [
    "# Load environment variables from .env file\n",
    "\n",
    "#load_dotenv() #we assume that a .env file has been created that stores that API credentials (shared in slack channel)\n",
    "\n",
    "# Get the API key and other details from environment variables\n",
    "\n",
    "#api_key = os.getenv(\"CHROMA_API_KEY\")\n",
    "#tenant_id = os.getenv(\"CHROMA_TENANT\")\n",
    "#database_name = os.getenv(\"CHROMA_DATABASE\")\n",
    "\n",
    "#load client\n",
    "#client = chromadb.CloudClient(\n",
    "        #api_key=api_key,\n",
    "        #tenant=tenant_id,\n",
    "        #database=database_name\n",
    "    #)"
   ]
  },
  {
   "cell_type": "code",
   "execution_count": 2,
   "id": "75f13d71",
   "metadata": {},
   "outputs": [
    {
     "name": "stderr",
     "output_type": "stream",
     "text": [
      "/home/gwenm/.pyenv/versions/3.10.6/envs/inspiart/lib/python3.10/site-packages/tqdm/auto.py:21: TqdmWarning: IProgress not found. Please update jupyter and ipywidgets. See https://ipywidgets.readthedocs.io/en/stable/user_install.html\n",
      "  from .autonotebook import tqdm as notebook_tqdm\n",
      "2025-09-10 12:02:25.833595: I tensorflow/core/platform/cpu_feature_guard.cc:210] This TensorFlow binary is optimized to use available CPU instructions in performance-critical operations.\n",
      "To enable the following instructions: AVX2 FMA, in other operations, rebuild TensorFlow with the appropriate compiler flags.\n"
     ]
    }
   ],
   "source": [
    "import os\n",
    "# TODO: update path to use os\n",
    "import PIL.Image as Image\n",
    "\n",
    "from sentence_transformers import SentenceTransformer\n",
    "\n",
    "import chromadb\n",
    "from PIL import Image"
   ]
  },
  {
   "cell_type": "code",
   "execution_count": 9,
   "id": "d1e70ecf",
   "metadata": {},
   "outputs": [],
   "source": [
    "model = SentenceTransformer('clip-ViT-B-32')\n",
    "chroma_client = chromadb.CloudClient(\n",
    "        api_key=os.environ.get(\"CHROMA_API_KEY\"),\n",
    "        tenant=os.environ.get(\"CHROMA_TENANT\"),\n",
    "        database='inspiart'\n",
    "        )\n",
    "collection = chroma_client.get_or_create_collection(name=\"wikiart_115000images\")"
   ]
  },
  {
   "cell_type": "code",
   "execution_count": 56,
   "id": "954ba332",
   "metadata": {},
   "outputs": [
    {
     "name": "stderr",
     "output_type": "stream",
     "text": [
      "WARNING: All log messages before absl::InitializeLog() is called are written to STDERR\n",
      "I0000 00:00:1757504456.216453   35032 gpu_device.cc:2020] Created device /job:localhost/replica:0/task:0/device:GPU:0 with 1303 MB memory:  -> device: 0, name: Quadro P520, pci bus id: 0000:6c:00.0, compute capability: 6.1\n"
     ]
    }
   ],
   "source": [
    "from tensorflow.keras import models\n",
    "\n",
    "model_keras =  models.load_model(\"../models/model_Xception_alldata_finetuned.keras\")"
   ]
  },
  {
   "cell_type": "code",
   "execution_count": null,
   "id": "a978a7fe-cb87-4297-b18e-2f80f4e3627c",
   "metadata": {
    "execution": {
     "iopub.execute_input": "2025-09-09T18:32:09.411599Z",
     "iopub.status.busy": "2025-09-09T18:32:09.410064Z",
     "iopub.status.idle": "2025-09-09T18:32:09.602299Z",
     "shell.execute_reply": "2025-09-09T18:32:09.601673Z",
     "shell.execute_reply.started": "2025-09-09T18:32:09.411536Z"
    }
   },
   "outputs": [],
   "source": [
    "def get_similar_images(image_query: Image.Image, collection, model, n_results: int = 5):\n",
    "    \"\"\"\n",
    "    Finds the 5 most similar images in the collection for a given image query and\n",
    "    handles the case where the query image itself is in the database.\n",
    "    \"\"\"\n",
    "    # 1. Encode the input image to get its embedding\n",
    "    query_embedding = model.encode(image_query, device=\"cpu\").tolist()\n",
    "\n",
    "    # 2. Query for 5 results + 1 to handle the case where the query image is the top match\n",
    "    results = collection.query(\n",
    "        query_embeddings=[query_embedding],\n",
    "        n_results=n_results + 1,\n",
    "        include=['metadatas', 'distances']\n",
    "    )\n",
    "\n",
    "    # 3. Process the results\n",
    "    metadatas = results['metadatas'][0]\n",
    "    distances = results['distances'][0]\n",
    "\n",
    "    # Check if the most similar image is the image itself which means the distance is arbitrarilly close to 0\n",
    "    is_exact_match = distances[0] < 0.000001\n",
    "\n",
    "    # If it's an exact match, we return its metadata and the next 5 most similar images, otherwise, we just return the top 5.\n",
    "    if is_exact_match:\n",
    "        # The first result is the image itself, so we return its metadata.\n",
    "        exact_match_data = {\n",
    "            \"artist\": metadatas[0].get('artist'),\n",
    "            \"artwork_name\": metadatas[0].get('document'),\n",
    "        }\n",
    "        similar_images_metadata = metadatas[1:]\n",
    "    else:\n",
    "        # The image is not in our dataset, so there is no exact match.\n",
    "        exact_match_data = None\n",
    "        similar_images_metadata = metadatas[:n_results]\n",
    "\n",
    "   # 4. Format the list of similar images for the final output\n",
    "    similar_images_output = []\n",
    "    for meta in similar_images_metadata:\n",
    "        similar_images_output.append({\n",
    "            \"artist\": meta.get('artist'),\n",
    "            \"artwork_name\": meta.get('document'),\n",
    "        })\n",
    "\n",
    "    # 5. Return a structured dictionary\n",
    "    return {\n",
    "        \"query_image_found_in_db\": is_exact_match,\n",
    "        \"exact_match_details\": exact_match_data,\n",
    "        \"similar_images\": similar_images_output\n",
    "    }"
   ]
  },
  {
   "cell_type": "code",
   "execution_count": 14,
   "id": "24e55b66-34ca-4d74-9fd6-8da4da78e75f",
   "metadata": {},
   "outputs": [
    {
     "data": {
      "text/plain": [
       "{'query_image_found_in_db': False,\n",
       " 'exact_match_details': None,\n",
       " 'similar_images': [{'artist': 'Piet Mondrian', 'artwork_name': None},\n",
       "  {'artist': 'Piet Mondrian', 'artwork_name': None},\n",
       "  {'artist': 'Piet Mondrian', 'artwork_name': None},\n",
       "  {'artist': 'Richard Paul Lohse', 'artwork_name': None},\n",
       "  {'artist': 'Theo van Doesburg', 'artwork_name': None}]}"
      ]
     },
     "execution_count": 14,
     "metadata": {},
     "output_type": "execute_result"
    }
   ],
   "source": [
    "path = \"../raw_data/Images to try/Piet_Mondriaan,_1942_-_New_York_City_I.jpg\"\n",
    "img = Image.open(path)\n",
    "get_similar_images(img, collection, model, n_results = 5)"
   ]
  },
  {
   "cell_type": "code",
   "execution_count": 37,
   "id": "4c2985e9",
   "metadata": {},
   "outputs": [],
   "source": [
    "def receive_image(path):\n",
    "\n",
    "    #get the image from the POST request\n",
    "\n",
    "    #contents = img.file.read()\n",
    "\n",
    "    working_image = Image.open(path)\n",
    "\n",
    "    #get or create a connection\n",
    "\n",
    "    images_db = chroma_client.get_or_create_collection(name=\"wikiart_115000images\")\n",
    "\n",
    "    # Use the CLIP model to encode the image\n",
    "\n",
    "    query_embedding = model.encode(working_image, device=\"cpu\").tolist()\n",
    "\n",
    "    #perform the query\n",
    "\n",
    "    image_suggestions = images_db.query(\n",
    "    query_embeddings=[query_embedding],\n",
    "    include=['uris','metadatas', 'distances'],\n",
    "    n_results=3\n",
    "    )\n",
    "\n",
    "    # Search if the image is matches with the first result as an output:\n",
    "    distances = image_suggestions['distances'][0]\n",
    "\n",
    "    print(image_suggestions['metadatas'][0][0])\n",
    "    print(distances[0])\n",
    "    print(image_suggestions['metadatas'][0][1])\n",
    "    print(distances[1])\n",
    "    print(image_suggestions['metadatas'][0][2])\n",
    "    print(distances[2])\n",
    "\n",
    "    return None\n",
    "    is_exact_match = distances[0] < 0.000001\n",
    "\n",
    "    # if it matches, return its infos, else return we don't know the image\n",
    "    if is_exact_match:\n",
    "        image_dict = {\n",
    "            \"artist\" : image_suggestions['metadatas'][0][0]['artist'],\n",
    "            \"file_name\" : image_suggestions['metadatas'][0][0]['file_name']\n",
    "            }\n",
    "    else :\n",
    "        image_dict = {\n",
    "            \"artist\" : \"Unknown artist\",\n",
    "            \"file_name\" : \"Unknown artwork\"\n",
    "            }\n",
    "\n",
    "    return image_dict\n"
   ]
  },
  {
   "cell_type": "code",
   "execution_count": 38,
   "id": "4a514fe8",
   "metadata": {},
   "outputs": [
    {
     "name": "stdout",
     "output_type": "stream",
     "text": [
      "{'wikiart_url': 'https://www.wikiart.org/en/piet-mondrian/new-york-city-i-1942', 'style': 'Neoplasticism', 'img_url': 'https://uploads5.wikiart.org/images/piet-mondrian/new-york-city-i-1942.jpg!Large.jpg', 'artist': 'Piet Mondrian', 'movement': 'Neo-Impressionism', 'file_name': '112511-new-york-city-i-1942.jpg'}\n",
      "5.4051226e-09\n",
      "{'file_name': '112513-place-de-la-concorde-1943.jpg', 'movement': 'Neo-Impressionism', 'style': 'Neoplasticism', 'img_url': 'https://uploads1.wikiart.org/images/piet-mondrian/place-de-la-concorde-1943.jpg!Large.jpg', 'wikiart_url': 'https://www.wikiart.org/en/piet-mondrian/place-de-la-concorde-1943', 'artist': 'Piet Mondrian'}\n",
      "19.593811\n",
      "{'img_url': 'https://uploads7.wikiart.org/images/richard-paul-lohse/rhythmische-progression-drei-gleicher-farbgruppen-1952.jpg', 'file_name': '171310-rhythmische-progression-drei-gleicher-farbgruppen-1952.jpg', 'style': 'Concretism', 'movement': 'Constructivism', 'wikiart_url': 'https://www.wikiart.org/en/richard-paul-lohse/rhythmische-progression-drei-gleicher-farbgruppen-1952', 'artist': 'Richard Paul Lohse'}\n",
      "21.77583\n"
     ]
    }
   ],
   "source": [
    "path = \"/home/gwenm/code/gwen-m97/inspiart/raw_data/wiki/new-york-city-i-1942.jpg!Large.jpg\"\n",
    "receive_image(path)"
   ]
  },
  {
   "cell_type": "code",
   "execution_count": 43,
   "id": "c8c2eeb9",
   "metadata": {},
   "outputs": [
    {
     "name": "stdout",
     "output_type": "stream",
     "text": [
      "{'artist': 'Piet Mondrian', 'img_url': 'https://uploads5.wikiart.org/images/piet-mondrian/new-york-city-i-1942.jpg!Large.jpg', 'file_name': '112511-new-york-city-i-1942.jpg', 'style': 'Neoplasticism', 'movement': 'Neo-Impressionism', 'wikiart_url': 'https://www.wikiart.org/en/piet-mondrian/new-york-city-i-1942'}\n",
      "13.06532\n",
      "{'file_name': '112513-place-de-la-concorde-1943.jpg', 'style': 'Neoplasticism', 'wikiart_url': 'https://www.wikiart.org/en/piet-mondrian/place-de-la-concorde-1943', 'img_url': 'https://uploads1.wikiart.org/images/piet-mondrian/place-de-la-concorde-1943.jpg!Large.jpg', 'movement': 'Neo-Impressionism', 'artist': 'Piet Mondrian'}\n",
      "19.908276\n",
      "{'movement': 'Neo-Impressionism', 'img_url': 'https://uploads3.wikiart.org/images/piet-mondrian/broadway-boogie-woogie-1943.jpg!Large.jpg', 'artist': 'Piet Mondrian', 'wikiart_url': 'https://www.wikiart.org/en/piet-mondrian/broadway-boogie-woogie-1943', 'style': 'Unknown', 'file_name': '112512-broadway-boogie-woogie-1943.jpg'}\n",
      "21.477737\n"
     ]
    }
   ],
   "source": [
    "path = \"/home/gwenm/code/gwen-m97/inspiart/raw_data/Images to try/Piet_Mondriaan,_1942_-_New_York_City_I.jpg\"\n",
    "receive_image(path)"
   ]
  },
  {
   "cell_type": "code",
   "execution_count": 39,
   "id": "28661878",
   "metadata": {},
   "outputs": [
    {
     "name": "stdout",
     "output_type": "stream",
     "text": [
      "{'file_name': '93941-water-lilies-nympheas-1907.jpg', 'style': 'Impressionism', 'img_url': 'https://uploads1.wikiart.org/images/claude-monet/water-lilies-nympheas-1907.jpg!Large.jpg', 'wikiart_url': 'https://www.wikiart.org/en/claude-monet/water-lilies-nympheas-1907', 'movement': 'Impressionism', 'artist': 'Claude Monet'}\n",
      "1.8473374e-10\n",
      "{'artist': 'Claude Monet', 'style': 'Impressionism', 'wikiart_url': 'https://www.wikiart.org/en/claude-monet/water-lilies-25', 'movement': 'Impressionism', 'img_url': 'https://uploads8.wikiart.org/images/claude-monet/water-lilies-25.jpg!Large.jpg', 'file_name': '93937-water-lilies-25.jpg'}\n",
      "10.763243\n",
      "{'style': 'Impressionism', 'img_url': 'https://uploads8.wikiart.org/images/claude-monet/water-lilies-30.jpg!Large.jpg', 'artist': 'Claude Monet', 'file_name': '93977-water-lilies-30.jpg', 'movement': 'Impressionism', 'wikiart_url': 'https://www.wikiart.org/en/claude-monet/water-lilies-30'}\n",
      "12.751024\n"
     ]
    }
   ],
   "source": [
    "path = \"/home/gwenm/code/gwen-m97/inspiart/raw_data/wiki/water-lilies-nympheas-1907.jpg!Large.jpg\"\n",
    "receive_image(path)"
   ]
  },
  {
   "cell_type": "code",
   "execution_count": 41,
   "id": "b8a400d6",
   "metadata": {},
   "outputs": [
    {
     "name": "stdout",
     "output_type": "stream",
     "text": [
      "{'file_name': '142654-serenade-du-pave-1892-1.jpg', 'wikiart_url': 'https://www.wikiart.org/en/theophile-steinlen/serenade-du-pave-1892-1', 'movement': 'Art Nouveau', 'style': 'Art Nouveau (Modern)', 'img_url': 'https://uploads4.wikiart.org/images/theophile-steinlen/serenade-du-pave-1892-1.jpg!Large.jpg', 'artist': 'Theophile Steinlen'}\n",
      "81.67352\n",
      "{'style': 'Dada', 'artist': 'Marcel Duchamp', 'file_name': '169190-apolinere-enamelled-1916.jpg', 'wikiart_url': 'https://www.wikiart.org/en/marcel-duchamp/apolinere-enamelled-1916', 'movement': 'Dada', 'img_url': 'https://uploads1.wikiart.org/images/marcel-duchamp/apolinere-enamelled-1916.jpg!Large.jpg'}\n",
      "83.426735\n",
      "{'style': 'Social Realism', 'movement': 'Social Realism', 'file_name': '140790-say-no.jpg', 'wikiart_url': 'https://www.wikiart.org/en/sue-coe/say-no', 'img_url': 'https://uploads2.wikiart.org/images/sue-coe/say-no.jpg', 'artist': 'Sue Coe'}\n",
      "87.94089\n"
     ]
    }
   ],
   "source": [
    "path = \"/home/gwenm/code/gwen-m97/inspiart/raw_data/wiki/old-fashioned-vegetable.jpg\"\n",
    "receive_image(path)"
   ]
  },
  {
   "cell_type": "code",
   "execution_count": 45,
   "id": "e3e99b88",
   "metadata": {},
   "outputs": [
    {
     "name": "stdout",
     "output_type": "stream",
     "text": [
      "{'artist': 'Paul Cezanne', 'file_name': '113069-portrait-of-ambroise-vollard-1899.jpg', 'wikiart_url': 'https://www.wikiart.org/en/paul-cezanne/portrait-of-ambroise-vollard-1899', 'img_url': 'https://uploads8.wikiart.org/images/paul-cezanne/portrait-of-ambroise-vollard-1899.jpg!Large.jpg', 'style': 'Post-Impressionism', 'movement': 'Post-Impressionism'}\n",
      "8.258798\n",
      "{'movement': 'Symbolism', 'img_url': 'https://uploads1.wikiart.org/images/ferdinand-hodler/self-portrait.jpg!Large.jpg', 'artist': 'Ferdinand Hodler', 'wikiart_url': 'https://www.wikiart.org/en/ferdinand-hodler/self-portrait', 'file_name': '81729-self-portrait.jpg', 'style': 'Art Nouveau (Modern)'}\n",
      "20.45548\n",
      "{'style': 'Post-Impressionism', 'movement': 'Post-Impressionism', 'wikiart_url': 'https://www.wikiart.org/en/pyotr-konchalovsky/portrait-of-the-sculptor-p-bromirsky-1919', 'artist': 'Pyotr Konchalovsky', 'file_name': '120892-portrait-of-the-sculptor-p-bromirsky-1919.jpg', 'img_url': 'https://uploads3.wikiart.org/images/pyotr-konchalovsky/portrait-of-the-sculptor-p-bromirsky-1919.jpg'}\n",
      "21.400927\n"
     ]
    }
   ],
   "source": [
    "path = \"/home/gwenm/code/gwen-m97/inspiart/raw_data/wiki/lpdp_25399-1.jpg\"\n",
    "receive_image(path)"
   ]
  },
  {
   "cell_type": "code",
   "execution_count": 46,
   "id": "9afaa77c",
   "metadata": {},
   "outputs": [
    {
     "name": "stdout",
     "output_type": "stream",
     "text": [
      "{'img_url': 'https://uploads4.wikiart.org/00142/images/vincent-van-gogh/the-starry-night.jpg!Large.jpg', 'artist': 'Vincent van Gogh', 'wikiart_url': 'https://www.wikiart.org/en/vincent-van-gogh/the-starry-night-1889', 'style': 'Unknown', 'movement': 'Post-Impressionism', 'file_name': '115385-the-starry-night.jpg'}\n",
      "3.1712368\n",
      "{'artist': 'Vincent van Gogh', 'file_name': '115176-starry-night-over-the-rhone.jpg', 'wikiart_url': 'https://www.wikiart.org/en/vincent-van-gogh/the-starry-night-1888-2', 'movement': 'Post-Impressionism', 'style': 'Post-Impressionism', 'img_url': 'https://uploads0.wikiart.org/00175/images/vincent-van-gogh/starry-night-over-the-rhone.jpg!Large.jpg'}\n",
      "23.794777\n",
      "{'wikiart_url': 'https://www.wikiart.org/en/vincent-van-gogh/road-with-cypresses-1890', 'img_url': 'https://uploads3.wikiart.org/images/vincent-van-gogh/road-with-cypresses-1890.jpg!Large.jpg', 'style': 'Post-Impressionism', 'artist': 'Vincent van Gogh', 'file_name': '115534-road-with-cypresses-1890.jpg', 'movement': 'Post-Impressionism'}\n",
      "28.608555\n"
     ]
    }
   ],
   "source": [
    "path = \"/home/gwenm/code/gwen-m97/inspiart/raw_data/Images to try/Van_Gogh_-_Starry_Night_-_Google_Art_Project.jpg\"\n",
    "receive_image(path)"
   ]
  },
  {
   "cell_type": "code",
   "execution_count": null,
   "id": "4ccea19d",
   "metadata": {},
   "outputs": [
    {
     "name": "stdout",
     "output_type": "stream",
     "text": [
      "1\n",
      "2\n",
      "3\n",
      "4\n",
      "5\n"
     ]
    }
   ],
   "source": [
    "for i in range(1,6) :\n",
    "    print(i)"
   ]
  },
  {
   "cell_type": "code",
   "execution_count": 49,
   "id": "787e3497",
   "metadata": {},
   "outputs": [],
   "source": [
    "def test_image1(path):\n",
    "\n",
    "    #get the image from the POST request\n",
    "\n",
    "    #contents = img.file.read()\n",
    "\n",
    "    working_image = Image.open(path)\n",
    "\n",
    "    #get or create a connection\n",
    "\n",
    "    images_db = chroma_client.get_or_create_collection(name=\"wikiart_115000images\")\n",
    "\n",
    "    # Use the CLIP model to encode the image\n",
    "\n",
    "    query_embedding = model.encode(working_image, device=\"cpu\").tolist()\n",
    "\n",
    "    #perform the query\n",
    "\n",
    "    image_suggestions = images_db.query(\n",
    "    query_embeddings=[query_embedding],\n",
    "    include=['uris','metadatas', 'distances'],\n",
    "    n_results=3\n",
    "    )\n",
    "\n",
    "    # Search if the image is matches with the first result as an output:\n",
    "    distances = image_suggestions['distances'][0]\n",
    "\n",
    "    is_exact_match = distances[0] < 10\n",
    "\n",
    "    # if it matches, return its infos, else return we don't know the image\n",
    "    if is_exact_match:\n",
    "        image_dict = {\n",
    "            \"artist\" : image_suggestions['metadatas'][0][0]['artist'],\n",
    "            \"file_name\" : image_suggestions['metadatas'][0][0]['file_name']\n",
    "            }\n",
    "    else :\n",
    "        image_dict = {\n",
    "            \"artist\" : \"Unknown artist\",\n",
    "            \"file_name\" : \"Unknown artwork\"\n",
    "            }\n",
    "\n",
    "    return image_dict\n"
   ]
  },
  {
   "cell_type": "code",
   "execution_count": 50,
   "id": "bdbf673d",
   "metadata": {},
   "outputs": [
    {
     "data": {
      "text/plain": [
       "{'artist': 'Paul Cezanne',\n",
       " 'file_name': '113069-portrait-of-ambroise-vollard-1899.jpg'}"
      ]
     },
     "execution_count": 50,
     "metadata": {},
     "output_type": "execute_result"
    }
   ],
   "source": [
    "#TEST WITH IMAGE IN\n",
    "path = \"/home/gwenm/code/gwen-m97/inspiart/raw_data/wiki/lpdp_25399-1.jpg\"\n",
    "test_image1(path)"
   ]
  },
  {
   "cell_type": "code",
   "execution_count": 51,
   "id": "56f9f429",
   "metadata": {},
   "outputs": [
    {
     "data": {
      "text/plain": [
       "{'artist': 'Unknown artist', 'file_name': 'Unknown artwork'}"
      ]
     },
     "execution_count": 51,
     "metadata": {},
     "output_type": "execute_result"
    }
   ],
   "source": [
    "#TEST WITHOUT IMAGE IN\n",
    "path = \"/home/gwenm/code/gwen-m97/inspiart/raw_data/wiki/old-fashioned-vegetable.jpg\"\n",
    "test_image1(path)"
   ]
  },
  {
   "cell_type": "code",
   "execution_count": 65,
   "id": "aa1423da",
   "metadata": {},
   "outputs": [],
   "source": [
    "def test_image2(path):\n",
    "\n",
    "    #get the image from the POST request\n",
    "\n",
    "    #contents = img.file.read()\n",
    "\n",
    "    working_image = Image.open(path)\n",
    "\n",
    "  #styles constant\n",
    "\n",
    "    LIST_STYLES = ['Abstract Art', 'Abstract Expressionism', 'Academicism', 'Art Deco', 'Art Informel', 'Art Nouveau (Modern)', 'Biedermeier', 'Color Field Painting', 'Conceptual Art', 'Concretism', 'Contemporary', 'Contemporary Realism', 'Cubism', 'Dada', 'Divisionism', 'Expressionism', 'Fantastic Realism', 'Fauvism', 'Figurative Expressionism', 'Futurism', 'Hard Edge Painting', 'Hyper-Realism', 'Impressionism', 'Kitsch', 'Luminism', 'Lyrical Abstraction', 'Magic Realism', 'Metaphysical art', 'Minimalism', 'Native Art', 'Naturalism', 'Naïve Art (Primitivism)', 'Neo-Dada', 'Neo-Expressionism', 'Neo-Impressionism', 'Neo-Pop Art', 'Neo-Romanticism', 'Neoclassicism', 'New European Painting', 'Op Art', 'Orientalism', 'Pop Art', 'Post-Impressionism', 'Post-Painterly Abstraction', 'Precisionism', 'Realism', 'Regionalism', 'Romanticism', 'Social Realism', 'Socialist Realism', 'Surrealism', 'Symbolism', 'Synthetic Cubism', 'Tachisme', 'Tonalism', 'Transavantgarde']\n",
    "\n",
    "    #going to find the style\n",
    "\n",
    "    #PREPROCESSING\n",
    "\n",
    "    img = working_image.convert('RGB')\n",
    "    img_resized = img.resize((224, 224), Image.BICUBIC)\n",
    "    img_array = np.array(img_resized)\n",
    "    img_preprocessed = preprocess_input(img_array)\n",
    "    img_batch = np.expand_dims(img_preprocessed, axis=0)  # shape (1,224,224,3)\n",
    "\n",
    "    #PREDICTION\n",
    "\n",
    "    preds = model_keras.predict(img_batch)\n",
    "    pred_indice = preds.argmax(axis=1)[0] #Take the number\n",
    "    style_predicted = LIST_STYLES[pred_indice]\n",
    "\n",
    "    #GET IMAGES THAT MATCH WITH STYLE AND IMAGE\n",
    "\n",
    "    #get or create a connection\n",
    "\n",
    "    images_db = chroma_client.get_or_create_collection(name=\"wikiart_115000images\")\n",
    "\n",
    "    # Use the CLIP model to encode the image\n",
    "\n",
    "    query_embedding = model.encode(working_image, device=\"cpu\").tolist()\n",
    "\n",
    "    #perform the query\n",
    "\n",
    "    image_suggestions = images_db.query(\n",
    "    query_embeddings=[query_embedding],\n",
    "    include=['uris','metadatas', 'distances'],\n",
    "    n_results=6\n",
    "    )\n",
    "\n",
    "    # Search if the image is matches with the first result as an output:\n",
    "    distances = image_suggestions['distances'][0]\n",
    "\n",
    "    is_exact_match = distances[0] < 10\n",
    "\n",
    "    #create a dictionary of the results\n",
    "\n",
    "    image_dict = {}\n",
    "\n",
    "    if is_exact_match:\n",
    "        for i in range(1,6) :\n",
    "            key=f\"image_{i-1}\"\n",
    "            image_dict[key] = {\n",
    "                \"img_url\" : image_suggestions['metadatas'][0][i]['img_url'],\n",
    "                \"artist\" : image_suggestions['metadatas'][0][i]['artist'],\n",
    "                \"file_name\" : image_suggestions['metadatas'][0][i]['file_name'],\n",
    "                \"style\" : image_suggestions['metadatas'][0][i]['style']\n",
    "                }\n",
    "    else :\n",
    "        for i in range(5) :\n",
    "            key=f\"image_{i}\"\n",
    "            image_dict[key] = {\n",
    "                \"img_url\" : image_suggestions['metadatas'][0][i]['img_url'],\n",
    "                \"artist\" : image_suggestions['metadatas'][0][i]['artist'],\n",
    "                \"file_name\" : image_suggestions['metadatas'][0][i]['file_name'],\n",
    "                \"style\" : image_suggestions['metadatas'][0][i]['style']\n",
    "                }\n",
    "\n",
    "\n",
    "    final_dict = {\"style_predicted\" : style_predicted, \"images\" : image_dict}\n",
    "\n",
    "    #return the dictionary\n",
    "\n",
    "    return final_dict"
   ]
  },
  {
   "cell_type": "code",
   "execution_count": 66,
   "id": "a5323c15",
   "metadata": {},
   "outputs": [
    {
     "name": "stdout",
     "output_type": "stream",
     "text": [
      "\u001b[1m1/1\u001b[0m \u001b[32m━━━━━━━━━━━━━━━━━━━━\u001b[0m\u001b[37m\u001b[0m \u001b[1m0s\u001b[0m 145ms/step\n"
     ]
    },
    {
     "data": {
      "text/plain": [
       "{'style_predicted': 'Post-Impressionism',\n",
       " 'images': {'image_0': {'img_url': 'https://uploads1.wikiart.org/images/ferdinand-hodler/self-portrait.jpg!Large.jpg',\n",
       "   'artist': 'Ferdinand Hodler',\n",
       "   'file_name': '81729-self-portrait.jpg',\n",
       "   'style': 'Art Nouveau (Modern)'},\n",
       "  'image_1': {'img_url': 'https://uploads3.wikiart.org/images/pyotr-konchalovsky/portrait-of-the-sculptor-p-bromirsky-1919.jpg',\n",
       "   'artist': 'Pyotr Konchalovsky',\n",
       "   'file_name': '120892-portrait-of-the-sculptor-p-bromirsky-1919.jpg',\n",
       "   'style': 'Post-Impressionism'},\n",
       "  'image_2': {'img_url': 'https://uploads1.wikiart.org/images/suzanne-valadon/portrait-of-maurice-utrillo-1921.jpg!Large.jpg',\n",
       "   'artist': 'Suzanne Valadon',\n",
       "   'file_name': '117611-portrait-of-maurice-utrillo-1921.jpg',\n",
       "   'style': 'Post-Impressionism'},\n",
       "  'image_3': {'img_url': 'https://uploads1.wikiart.org/images/frederic-bazille/portrait-of-auguste-renoir-1867.jpg!Large.jpg',\n",
       "   'artist': 'Frederic Bazille',\n",
       "   'file_name': '95913-portrait-of-auguste-renoir-1867.jpg',\n",
       "   'style': 'Impressionism'},\n",
       "  'image_4': {'img_url': 'https://uploads4.wikiart.org/images/george-bousianis/portrait-of-a-man-1919(2).jpg!Large.jpg',\n",
       "   'artist': 'George Bouzianis',\n",
       "   'file_name': '132201-portrait-of-a-man-1919(2).jpg',\n",
       "   'style': 'Expressionism'}}}"
      ]
     },
     "execution_count": 66,
     "metadata": {},
     "output_type": "execute_result"
    }
   ],
   "source": [
    "#TEST WITH IMAGE IN\n",
    "#Shouldn't return artist': 'Paul Cezanne', 'file_name': '113069-portrait-of-ambroise-vollard-1899.jpg',\n",
    "path = \"/home/gwenm/code/gwen-m97/inspiart/raw_data/wiki/lpdp_25399-1.jpg\"\n",
    "test_image2(path)"
   ]
  },
  {
   "cell_type": "code",
   "execution_count": null,
   "id": "09636a03",
   "metadata": {},
   "outputs": [
    {
     "name": "stdout",
     "output_type": "stream",
     "text": [
      "\u001b[1m1/1\u001b[0m \u001b[32m━━━━━━━━━━━━━━━━━━━━\u001b[0m\u001b[37m\u001b[0m \u001b[1m0s\u001b[0m 100ms/step\n"
     ]
    },
    {
     "data": {
      "text/plain": [
       "{'style_predicted': 'Pop Art',\n",
       " 'images': {'image_0': {'img_url': 'https://uploads4.wikiart.org/images/theophile-steinlen/serenade-du-pave-1892-1.jpg!Large.jpg',\n",
       "   'artist': 'Theophile Steinlen',\n",
       "   'file_name': '142654-serenade-du-pave-1892-1.jpg',\n",
       "   'style': 'Art Nouveau (Modern)'},\n",
       "  'image_1': {'img_url': 'https://uploads1.wikiart.org/images/marcel-duchamp/apolinere-enamelled-1916.jpg!Large.jpg',\n",
       "   'artist': 'Marcel Duchamp',\n",
       "   'file_name': '169190-apolinere-enamelled-1916.jpg',\n",
       "   'style': 'Dada'},\n",
       "  'image_2': {'img_url': 'https://uploads2.wikiart.org/images/sue-coe/say-no.jpg',\n",
       "   'artist': 'Sue Coe',\n",
       "   'file_name': '140790-say-no.jpg',\n",
       "   'style': 'Social Realism'},\n",
       "  'image_3': {'img_url': 'https://uploads5.wikiart.org/images/john-bauer/jultomten-1911.jpg!Large.jpg',\n",
       "   'artist': 'John Bauer',\n",
       "   'file_name': '52913-jultomten-1911.jpg',\n",
       "   'style': 'Art Nouveau (Modern)'},\n",
       "  'image_4': {'img_url': 'https://uploads1.wikiart.org/images/theophile-steinlen/serenade-du-pave-1892.jpg',\n",
       "   'artist': 'Theophile Steinlen',\n",
       "   'file_name': '142653-serenade-du-pave-1892.jpg',\n",
       "   'style': 'Art Nouveau (Modern)'}}}"
      ]
     },
     "execution_count": 67,
     "metadata": {},
     "output_type": "execute_result"
    }
   ],
   "source": [
    "#TEST WITHOUT IMAGE IN\n",
    "# should return first Theophile Steinlen cause no filtering\n",
    "path = \"/home/gwenm/code/gwen-m97/inspiart/raw_data/wiki/old-fashioned-vegetable.jpg\"\n",
    "test_image2(path)"
   ]
  },
  {
   "cell_type": "code",
   "execution_count": null,
   "id": "352eebfc",
   "metadata": {},
   "outputs": [],
   "source": []
  }
 ],
 "metadata": {
  "kernelspec": {
   "display_name": "inspiart",
   "language": "python",
   "name": "python3"
  },
  "language_info": {
   "codemirror_mode": {
    "name": "ipython",
    "version": 3
   },
   "file_extension": ".py",
   "mimetype": "text/x-python",
   "name": "python",
   "nbconvert_exporter": "python",
   "pygments_lexer": "ipython3",
   "version": "3.10.6"
  }
 },
 "nbformat": 4,
 "nbformat_minor": 5
}
